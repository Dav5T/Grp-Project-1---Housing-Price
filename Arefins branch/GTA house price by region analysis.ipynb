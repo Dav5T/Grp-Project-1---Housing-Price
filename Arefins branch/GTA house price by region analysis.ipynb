{
 "cells": [
  {
   "cell_type": "code",
   "execution_count": 79,
   "id": "11d16bb7",
   "metadata": {},
   "outputs": [],
   "source": [
    "# Dependencies and Setup\n",
    "import os\n",
    "import csv\n",
    "import codecs\n",
    "import pandas as pd\n",
    "import scipy.stats as st\n",
    "import matplotlib.pyplot as plt\n",
    "from scipy.stats import linregress"
   ]
  },
  {
   "cell_type": "code",
   "execution_count": 80,
   "id": "8328fb06",
   "metadata": {},
   "outputs": [],
   "source": [
    "# Specify the file path\n",
    "thisFile_path = os.path.abspath(\"\")\n",
    "sch_scr_2018_path = os.path.join(thisFile_path, \"GTA school score clean DF 2018.csv\")\n",
    "sch_scr_2019_path = os.path.join(thisFile_path, \"GTA school score clean DF 2019.csv\")\n",
    "sch_scr_2020_path = os.path.join(thisFile_path, \"GTA school score clean DF 2020.csv\")\n",
    "allhouse_prices_path = os.path.join(thisFile_path, \"GTA house prices by region 2018-2020.csv\")"
   ]
  },
  {
   "cell_type": "code",
   "execution_count": 81,
   "id": "eadd723e",
   "metadata": {},
   "outputs": [],
   "source": [
    "# Read the csv files for school scores\n",
    "sch_scr_2018_data = pd.read_csv(sch_scr_2018_path)\n",
    "sch_scr_2019_data = pd.read_csv(sch_scr_2019_path)\n",
    "sch_scr_2020_data = pd.read_csv(sch_scr_2020_path)"
   ]
  },
  {
   "cell_type": "code",
   "execution_count": 82,
   "id": "beb2b959",
   "metadata": {},
   "outputs": [
    {
     "data": {
      "text/html": [
       "<div>\n",
       "<style scoped>\n",
       "    .dataframe tbody tr th:only-of-type {\n",
       "        vertical-align: middle;\n",
       "    }\n",
       "\n",
       "    .dataframe tbody tr th {\n",
       "        vertical-align: top;\n",
       "    }\n",
       "\n",
       "    .dataframe thead th {\n",
       "        text-align: right;\n",
       "    }\n",
       "</style>\n",
       "<table border=\"1\" class=\"dataframe\">\n",
       "  <thead>\n",
       "    <tr style=\"text-align: right;\">\n",
       "      <th></th>\n",
       "      <th>Region Name</th>\n",
       "      <th>City Name</th>\n",
       "      <th>School Name</th>\n",
       "      <th>School Score</th>\n",
       "    </tr>\n",
       "  </thead>\n",
       "  <tbody>\n",
       "    <tr>\n",
       "      <th>0</th>\n",
       "      <td>City of Toronto</td>\n",
       "      <td>Toronto</td>\n",
       "      <td>St Michaels Choir</td>\n",
       "      <td>9.4</td>\n",
       "    </tr>\n",
       "    <tr>\n",
       "      <th>1</th>\n",
       "      <td>Halton Region</td>\n",
       "      <td>Oakville</td>\n",
       "      <td>Abbey Park</td>\n",
       "      <td>9.2</td>\n",
       "    </tr>\n",
       "    <tr>\n",
       "      <th>2</th>\n",
       "      <td>York Region</td>\n",
       "      <td>Thornhill</td>\n",
       "      <td>St Robert</td>\n",
       "      <td>9.2</td>\n",
       "    </tr>\n",
       "    <tr>\n",
       "      <th>3</th>\n",
       "      <td>City of Toronto</td>\n",
       "      <td>Toronto</td>\n",
       "      <td>Ursula Franklin</td>\n",
       "      <td>9.1</td>\n",
       "    </tr>\n",
       "    <tr>\n",
       "      <th>4</th>\n",
       "      <td>York Region</td>\n",
       "      <td>Markham</td>\n",
       "      <td>Markville</td>\n",
       "      <td>8.9</td>\n",
       "    </tr>\n",
       "  </tbody>\n",
       "</table>\n",
       "</div>"
      ],
      "text/plain": [
       "       Region Name  City Name        School Name  School Score\n",
       "0  City of Toronto    Toronto  St Michaels Choir           9.4\n",
       "1    Halton Region   Oakville         Abbey Park           9.2\n",
       "2      York Region  Thornhill          St Robert           9.2\n",
       "3  City of Toronto    Toronto    Ursula Franklin           9.1\n",
       "4      York Region    Markham          Markville           8.9"
      ]
     },
     "execution_count": 82,
     "metadata": {},
     "output_type": "execute_result"
    }
   ],
   "source": [
    "sch_scr_2018_data.head()"
   ]
  },
  {
   "cell_type": "code",
   "execution_count": 83,
   "id": "d2f5e178",
   "metadata": {},
   "outputs": [],
   "source": [
    "score_stats_2018 = sch_scr_2018_data.groupby(\"Region Name\").agg({\"School Score\": [\"mean\", \"median\", \"var\", \"std\", \"sem\"]})\n",
    "score_stats_2019 = sch_scr_2018_data.groupby(\"Region Name\").agg({\"School Score\": [\"mean\", \"median\", \"var\", \"std\", \"sem\"]})\n",
    "score_stats_2020 = sch_scr_2018_data.groupby(\"Region Name\").agg({\"School Score\": [\"mean\", \"median\", \"var\", \"std\", \"sem\"]})"
   ]
  },
  {
   "cell_type": "code",
   "execution_count": 54,
   "id": "43a50e88",
   "metadata": {},
   "outputs": [
    {
     "data": {
      "text/plain": [
       "Region Name\n",
       "City of Toronto    5.833028\n",
       "Durham Region      6.324000\n",
       "Halton Region      7.440000\n",
       "Peel Region        6.439683\n",
       "York Region        7.228947\n",
       "Name: (School Score, mean), dtype: float64"
      ]
     },
     "execution_count": 54,
     "metadata": {},
     "output_type": "execute_result"
    }
   ],
   "source": [
    "score_stats_2018[(\"School Score\", \"mean\")]"
   ]
  },
  {
   "cell_type": "code",
   "execution_count": 85,
   "id": "eb739786",
   "metadata": {},
   "outputs": [
    {
     "data": {
      "text/html": [
       "<div>\n",
       "<style scoped>\n",
       "    .dataframe tbody tr th:only-of-type {\n",
       "        vertical-align: middle;\n",
       "    }\n",
       "\n",
       "    .dataframe tbody tr th {\n",
       "        vertical-align: top;\n",
       "    }\n",
       "\n",
       "    .dataframe thead th {\n",
       "        text-align: right;\n",
       "    }\n",
       "</style>\n",
       "<table border=\"1\" class=\"dataframe\">\n",
       "  <thead>\n",
       "    <tr style=\"text-align: right;\">\n",
       "      <th></th>\n",
       "      <th>﻿House</th>\n",
       "      <th>Region</th>\n",
       "      <th>Average Price 2018</th>\n",
       "      <th>Average Price 2019</th>\n",
       "      <th>Average Price 2020</th>\n",
       "      <th>Sales 2018</th>\n",
       "      <th>Sales 2019</th>\n",
       "      <th>Sales 2020</th>\n",
       "    </tr>\n",
       "  </thead>\n",
       "  <tbody>\n",
       "    <tr>\n",
       "      <th>0</th>\n",
       "      <td>Detached</td>\n",
       "      <td>Halton Region</td>\n",
       "      <td>1071710.593</td>\n",
       "      <td>1280300.788</td>\n",
       "      <td>1251410.571</td>\n",
       "      <td>3819</td>\n",
       "      <td>3533</td>\n",
       "      <td>5561</td>\n",
       "    </tr>\n",
       "    <tr>\n",
       "      <th>1</th>\n",
       "      <td>Detached</td>\n",
       "      <td>Peel Region</td>\n",
       "      <td>920159.3917</td>\n",
       "      <td>1111765.603</td>\n",
       "      <td>1104249.554</td>\n",
       "      <td>7215</td>\n",
       "      <td>7113</td>\n",
       "      <td>9564</td>\n",
       "    </tr>\n",
       "    <tr>\n",
       "      <th>2</th>\n",
       "      <td>Detached</td>\n",
       "      <td>City of Toronto</td>\n",
       "      <td>1314631.176</td>\n",
       "      <td>1501783.643</td>\n",
       "      <td>1476517.773</td>\n",
       "      <td>8098</td>\n",
       "      <td>8230</td>\n",
       "      <td>9709</td>\n",
       "    </tr>\n",
       "    <tr>\n",
       "      <th>3</th>\n",
       "      <td>Detached</td>\n",
       "      <td>York Region</td>\n",
       "      <td>1136964.567</td>\n",
       "      <td>1309837.039</td>\n",
       "      <td>1261704.154</td>\n",
       "      <td>6471</td>\n",
       "      <td>7056</td>\n",
       "      <td>9902</td>\n",
       "    </tr>\n",
       "    <tr>\n",
       "      <th>4</th>\n",
       "      <td>Detached</td>\n",
       "      <td>Durham Region</td>\n",
       "      <td>654943.2333</td>\n",
       "      <td>768193.601</td>\n",
       "      <td>781918.9047</td>\n",
       "      <td>6005</td>\n",
       "      <td>6376</td>\n",
       "      <td>8497</td>\n",
       "    </tr>\n",
       "  </tbody>\n",
       "</table>\n",
       "</div>"
      ],
      "text/plain": [
       "     ﻿House           Region Average Price 2018 Average Price 2019  \\\n",
       "0  Detached    Halton Region        1071710.593        1280300.788   \n",
       "1  Detached      Peel Region        920159.3917        1111765.603   \n",
       "2  Detached  City of Toronto        1314631.176        1501783.643   \n",
       "3  Detached      York Region        1136964.567        1309837.039   \n",
       "4  Detached    Durham Region        654943.2333         768193.601   \n",
       "\n",
       "  Average Price 2020 Sales 2018 Sales 2019 Sales 2020  \n",
       "0        1251410.571       3819       3533       5561  \n",
       "1        1104249.554       7215       7113       9564  \n",
       "2        1476517.773       8098       8230       9709  \n",
       "3        1261704.154       6471       7056       9902  \n",
       "4        781918.9047       6005       6376       8497  "
      ]
     },
     "execution_count": 85,
     "metadata": {},
     "output_type": "execute_result"
    }
   ],
   "source": [
    "with codecs.open(allhouse_prices_path, 'r', encoding='UTF-8', errors='ignore') as csvfile:\n",
    "#with open(csvpath_sch, 'r', encoding='UTF-8') as csvfile:    \n",
    "    csvreader = csv.reader(csvfile, delimiter=\",\") # read the file\n",
    "    header = next(csvreader) # Isolate the header   \n",
    "    data = [row for row in csvreader]  # Collect the data rows\n",
    "    \n",
    "# Convert csvreader object and header into a DataFrame\n",
    "housePrice_df = pd.DataFrame.from_records(data, columns=header)\n",
    "housePrice_df.head()\n",
    "#house_prices_all = pd.read_csv(house_prices_all)"
   ]
  },
  {
   "cell_type": "code",
   "execution_count": 86,
   "id": "5e9a4e2f",
   "metadata": {
    "scrolled": true
   },
   "outputs": [
    {
     "data": {
      "text/plain": [
       "﻿House                 object\n",
       "Region                 object\n",
       "Average Price 2018    float64\n",
       "Average Price 2019    float64\n",
       "Average Price 2020    float64\n",
       "Sales 2018            float64\n",
       "Sales 2019            float64\n",
       "Sales 2020            float64\n",
       "dtype: object"
      ]
     },
     "execution_count": 86,
     "metadata": {},
     "output_type": "execute_result"
    }
   ],
   "source": [
    "housePrice_df[['Average Price 2018','Average Price 2019','Average Price 2020','Sales 2018','Sales 2019','Sales 2020']] = housePrice_df[['Average Price 2018','Average Price 2019','Average Price 2020','Sales 2018','Sales 2019','Sales 2020']].astype(float)\n",
    "housePrice_df.dtypes"
   ]
  },
  {
   "cell_type": "code",
   "execution_count": 39,
   "id": "ae7822c6",
   "metadata": {
    "scrolled": false
   },
   "outputs": [
    {
     "data": {
      "text/html": [
       "<div>\n",
       "<style scoped>\n",
       "    .dataframe tbody tr th:only-of-type {\n",
       "        vertical-align: middle;\n",
       "    }\n",
       "\n",
       "    .dataframe tbody tr th {\n",
       "        vertical-align: top;\n",
       "    }\n",
       "\n",
       "    .dataframe thead tr th {\n",
       "        text-align: left;\n",
       "    }\n",
       "\n",
       "    .dataframe thead tr:last-of-type th {\n",
       "        text-align: right;\n",
       "    }\n",
       "</style>\n",
       "<table border=\"1\" class=\"dataframe\">\n",
       "  <thead>\n",
       "    <tr>\n",
       "      <th></th>\n",
       "      <th colspan=\"5\" halign=\"left\">Average Price 2018</th>\n",
       "    </tr>\n",
       "    <tr>\n",
       "      <th></th>\n",
       "      <th>mean</th>\n",
       "      <th>median</th>\n",
       "      <th>var</th>\n",
       "      <th>std</th>\n",
       "      <th>sem</th>\n",
       "    </tr>\n",
       "    <tr>\n",
       "      <th>Region</th>\n",
       "      <th></th>\n",
       "      <th></th>\n",
       "      <th></th>\n",
       "      <th></th>\n",
       "      <th></th>\n",
       "    </tr>\n",
       "  </thead>\n",
       "  <tbody>\n",
       "    <tr>\n",
       "      <th>City of Toronto</th>\n",
       "      <td>900175.55468</td>\n",
       "      <td>940613.7635</td>\n",
       "      <td>8.485945e+10</td>\n",
       "      <td>291306.456653</td>\n",
       "      <td>130276.207872</td>\n",
       "    </tr>\n",
       "    <tr>\n",
       "      <th>Durham Region</th>\n",
       "      <td>493749.79356</td>\n",
       "      <td>488976.0099</td>\n",
       "      <td>1.123166e+10</td>\n",
       "      <td>105979.516889</td>\n",
       "      <td>47395.480797</td>\n",
       "    </tr>\n",
       "    <tr>\n",
       "      <th>Halton Region</th>\n",
       "      <td>693549.48328</td>\n",
       "      <td>672521.6734</td>\n",
       "      <td>5.028461e+10</td>\n",
       "      <td>224242.301362</td>\n",
       "      <td>100284.205855</td>\n",
       "    </tr>\n",
       "    <tr>\n",
       "      <th>Peel Region</th>\n",
       "      <td>634234.22030</td>\n",
       "      <td>627076.3965</td>\n",
       "      <td>3.482156e+10</td>\n",
       "      <td>186605.349472</td>\n",
       "      <td>83452.449277</td>\n",
       "    </tr>\n",
       "    <tr>\n",
       "      <th>York Region</th>\n",
       "      <td>754358.95178</td>\n",
       "      <td>759825.5617</td>\n",
       "      <td>5.864191e+10</td>\n",
       "      <td>242160.912389</td>\n",
       "      <td>108297.652319</td>\n",
       "    </tr>\n",
       "  </tbody>\n",
       "</table>\n",
       "</div>"
      ],
      "text/plain": [
       "                Average Price 2018                                            \\\n",
       "                              mean       median           var            std   \n",
       "Region                                                                         \n",
       "City of Toronto       900175.55468  940613.7635  8.485945e+10  291306.456653   \n",
       "Durham Region         493749.79356  488976.0099  1.123166e+10  105979.516889   \n",
       "Halton Region         693549.48328  672521.6734  5.028461e+10  224242.301362   \n",
       "Peel Region           634234.22030  627076.3965  3.482156e+10  186605.349472   \n",
       "York Region           754358.95178  759825.5617  5.864191e+10  242160.912389   \n",
       "\n",
       "                                \n",
       "                           sem  \n",
       "Region                          \n",
       "City of Toronto  130276.207872  \n",
       "Durham Region     47395.480797  \n",
       "Halton Region    100284.205855  \n",
       "Peel Region       83452.449277  \n",
       "York Region      108297.652319  "
      ]
     },
     "execution_count": 39,
     "metadata": {},
     "output_type": "execute_result"
    }
   ],
   "source": [
    "price_stats_2018 = housePrice_df.groupby(\"Region\").agg({\"Average Price 2018\": [\"mean\", \"median\", \"var\", \"std\", \"sem\"]})\n",
    "price_stats_2018"
   ]
  },
  {
   "cell_type": "code",
   "execution_count": 40,
   "id": "7140502e",
   "metadata": {
    "scrolled": true
   },
   "outputs": [
    {
     "data": {
      "text/html": [
       "<div>\n",
       "<style scoped>\n",
       "    .dataframe tbody tr th:only-of-type {\n",
       "        vertical-align: middle;\n",
       "    }\n",
       "\n",
       "    .dataframe tbody tr th {\n",
       "        vertical-align: top;\n",
       "    }\n",
       "\n",
       "    .dataframe thead tr th {\n",
       "        text-align: left;\n",
       "    }\n",
       "\n",
       "    .dataframe thead tr:last-of-type th {\n",
       "        text-align: right;\n",
       "    }\n",
       "</style>\n",
       "<table border=\"1\" class=\"dataframe\">\n",
       "  <thead>\n",
       "    <tr>\n",
       "      <th></th>\n",
       "      <th colspan=\"5\" halign=\"left\">Average Price 2019</th>\n",
       "    </tr>\n",
       "    <tr>\n",
       "      <th></th>\n",
       "      <th>mean</th>\n",
       "      <th>median</th>\n",
       "      <th>var</th>\n",
       "      <th>std</th>\n",
       "      <th>sem</th>\n",
       "    </tr>\n",
       "    <tr>\n",
       "      <th>Region</th>\n",
       "      <th></th>\n",
       "      <th></th>\n",
       "      <th></th>\n",
       "      <th></th>\n",
       "      <th></th>\n",
       "    </tr>\n",
       "  </thead>\n",
       "  <tbody>\n",
       "    <tr>\n",
       "      <th>City of Toronto</th>\n",
       "      <td>1.072442e+06</td>\n",
       "      <td>1.134789e+06</td>\n",
       "      <td>9.976071e+10</td>\n",
       "      <td>315849.190846</td>\n",
       "      <td>141252.052274</td>\n",
       "    </tr>\n",
       "    <tr>\n",
       "      <th>Durham Region</th>\n",
       "      <td>5.864767e+05</td>\n",
       "      <td>5.794051e+05</td>\n",
       "      <td>1.461355e+10</td>\n",
       "      <td>120886.510907</td>\n",
       "      <td>54062.091190</td>\n",
       "    </tr>\n",
       "    <tr>\n",
       "      <th>Halton Region</th>\n",
       "      <td>8.523681e+05</td>\n",
       "      <td>8.333591e+05</td>\n",
       "      <td>6.797996e+10</td>\n",
       "      <td>260729.670270</td>\n",
       "      <td>116601.853295</td>\n",
       "    </tr>\n",
       "    <tr>\n",
       "      <th>Peel Region</th>\n",
       "      <td>7.785875e+05</td>\n",
       "      <td>7.637079e+05</td>\n",
       "      <td>4.503861e+10</td>\n",
       "      <td>212223.010265</td>\n",
       "      <td>94909.015468</td>\n",
       "    </tr>\n",
       "    <tr>\n",
       "      <th>York Region</th>\n",
       "      <td>8.909679e+05</td>\n",
       "      <td>9.032750e+05</td>\n",
       "      <td>7.181673e+10</td>\n",
       "      <td>267986.429293</td>\n",
       "      <td>119847.174589</td>\n",
       "    </tr>\n",
       "  </tbody>\n",
       "</table>\n",
       "</div>"
      ],
      "text/plain": [
       "                Average Price 2019                                             \\\n",
       "                              mean        median           var            std   \n",
       "Region                                                                          \n",
       "City of Toronto       1.072442e+06  1.134789e+06  9.976071e+10  315849.190846   \n",
       "Durham Region         5.864767e+05  5.794051e+05  1.461355e+10  120886.510907   \n",
       "Halton Region         8.523681e+05  8.333591e+05  6.797996e+10  260729.670270   \n",
       "Peel Region           7.785875e+05  7.637079e+05  4.503861e+10  212223.010265   \n",
       "York Region           8.909679e+05  9.032750e+05  7.181673e+10  267986.429293   \n",
       "\n",
       "                                \n",
       "                           sem  \n",
       "Region                          \n",
       "City of Toronto  141252.052274  \n",
       "Durham Region     54062.091190  \n",
       "Halton Region    116601.853295  \n",
       "Peel Region       94909.015468  \n",
       "York Region      119847.174589  "
      ]
     },
     "execution_count": 40,
     "metadata": {},
     "output_type": "execute_result"
    }
   ],
   "source": [
    "price_stats_2019 = housePrice_df.groupby(\"Region\").agg({\"Average Price 2019\": [\"mean\", \"median\", \"var\", \"std\", \"sem\"]})\n",
    "price_stats_2019"
   ]
  },
  {
   "cell_type": "code",
   "execution_count": 41,
   "id": "614d73d1",
   "metadata": {
    "scrolled": true
   },
   "outputs": [
    {
     "data": {
      "text/html": [
       "<div>\n",
       "<style scoped>\n",
       "    .dataframe tbody tr th:only-of-type {\n",
       "        vertical-align: middle;\n",
       "    }\n",
       "\n",
       "    .dataframe tbody tr th {\n",
       "        vertical-align: top;\n",
       "    }\n",
       "\n",
       "    .dataframe thead tr th {\n",
       "        text-align: left;\n",
       "    }\n",
       "\n",
       "    .dataframe thead tr:last-of-type th {\n",
       "        text-align: right;\n",
       "    }\n",
       "</style>\n",
       "<table border=\"1\" class=\"dataframe\">\n",
       "  <thead>\n",
       "    <tr>\n",
       "      <th></th>\n",
       "      <th colspan=\"5\" halign=\"left\">Average Price 2020</th>\n",
       "    </tr>\n",
       "    <tr>\n",
       "      <th></th>\n",
       "      <th>mean</th>\n",
       "      <th>median</th>\n",
       "      <th>var</th>\n",
       "      <th>std</th>\n",
       "      <th>sem</th>\n",
       "    </tr>\n",
       "    <tr>\n",
       "      <th>Region</th>\n",
       "      <th></th>\n",
       "      <th></th>\n",
       "      <th></th>\n",
       "      <th></th>\n",
       "      <th></th>\n",
       "    </tr>\n",
       "  </thead>\n",
       "  <tbody>\n",
       "    <tr>\n",
       "      <th>City of Toronto</th>\n",
       "      <td>1.021979e+06</td>\n",
       "      <td>1.068163e+06</td>\n",
       "      <td>1.090658e+11</td>\n",
       "      <td>330251.174009</td>\n",
       "      <td>147692.814947</td>\n",
       "    </tr>\n",
       "    <tr>\n",
       "      <th>Durham Region</th>\n",
       "      <td>5.868982e+05</td>\n",
       "      <td>6.012231e+05</td>\n",
       "      <td>1.827791e+10</td>\n",
       "      <td>135195.827589</td>\n",
       "      <td>60461.412153</td>\n",
       "    </tr>\n",
       "    <tr>\n",
       "      <th>Halton Region</th>\n",
       "      <td>8.072516e+05</td>\n",
       "      <td>7.947941e+05</td>\n",
       "      <td>7.293387e+10</td>\n",
       "      <td>270062.716156</td>\n",
       "      <td>120775.718302</td>\n",
       "    </tr>\n",
       "    <tr>\n",
       "      <th>Peel Region</th>\n",
       "      <td>7.645009e+05</td>\n",
       "      <td>7.404278e+05</td>\n",
       "      <td>4.703046e+10</td>\n",
       "      <td>216865.082330</td>\n",
       "      <td>96985.013207</td>\n",
       "    </tr>\n",
       "    <tr>\n",
       "      <th>York Region</th>\n",
       "      <td>8.516133e+05</td>\n",
       "      <td>8.600890e+05</td>\n",
       "      <td>6.781162e+10</td>\n",
       "      <td>260406.647057</td>\n",
       "      <td>116457.392923</td>\n",
       "    </tr>\n",
       "  </tbody>\n",
       "</table>\n",
       "</div>"
      ],
      "text/plain": [
       "                Average Price 2020                                             \\\n",
       "                              mean        median           var            std   \n",
       "Region                                                                          \n",
       "City of Toronto       1.021979e+06  1.068163e+06  1.090658e+11  330251.174009   \n",
       "Durham Region         5.868982e+05  6.012231e+05  1.827791e+10  135195.827589   \n",
       "Halton Region         8.072516e+05  7.947941e+05  7.293387e+10  270062.716156   \n",
       "Peel Region           7.645009e+05  7.404278e+05  4.703046e+10  216865.082330   \n",
       "York Region           8.516133e+05  8.600890e+05  6.781162e+10  260406.647057   \n",
       "\n",
       "                                \n",
       "                           sem  \n",
       "Region                          \n",
       "City of Toronto  147692.814947  \n",
       "Durham Region     60461.412153  \n",
       "Halton Region    120775.718302  \n",
       "Peel Region       96985.013207  \n",
       "York Region      116457.392923  "
      ]
     },
     "execution_count": 41,
     "metadata": {},
     "output_type": "execute_result"
    }
   ],
   "source": [
    "price_stats_2020 = housePrice_df.groupby(\"Region\").agg({\"Average Price 2020\": [\"mean\", \"median\", \"var\", \"std\", \"sem\"]})\n",
    "price_stats_2020"
   ]
  },
  {
   "cell_type": "code",
   "execution_count": 89,
   "id": "9ba5bacf",
   "metadata": {},
   "outputs": [],
   "source": [
    "sales_stats_2018 = housePrice_df.groupby(\"Region\").agg({\"Sales 2018\": [\"mean\", \"median\", \"var\", \"std\", \"sem\"]})\n",
    "sales_stats_2019 = housePrice_df.groupby(\"Region\").agg({\"Sales 2019\": [\"mean\", \"median\", \"var\", \"std\", \"sem\"]})\n",
    "sales_stats_2020 = housePrice_df.groupby(\"Region\").agg({\"Sales 2020\": [\"mean\", \"median\", \"var\", \"std\", \"sem\"]})"
   ]
  },
  {
   "cell_type": "code",
   "execution_count": 106,
   "id": "3d97ac4b",
   "metadata": {},
   "outputs": [
    {
     "data": {
      "image/png": "[encoded data removed]",
      "text/plain": [
       "<Figure size 900x700 with 1 Axes>"
      ]
     },
     "metadata": {},
     "output_type": "display_data"
    }
   ],
   "source": [
    "F = 50000000 # common factor\n",
    "# indexs\n",
    "#index_18 = [(P*S*SL)/F for P, S,SL in zip(score_stats_2018[(\"School Score\", \"mean\")], price_stats_2018[(\"Average Price 2018\", \"mean\")], sales_stats_2018[(\"Sales 2018\",\"mean\")])]\n",
    "#index_19 = [(P*S*SL)/F for P, S,SL in zip(score_stats_2019[(\"School Score\", \"mean\")], price_stats_2019[(\"Average Price 2019\", \"mean\")], sales_stats_2019[(\"Sales 2019\",\"mean\")])]\n",
    "#index_20 = [(P*S*SL)/F for P, S,SL in zip(score_stats_2020[(\"School Score\", \"mean\")], price_stats_2020[(\"Average Price 2020\", \"mean\")], sales_stats_2020[(\"Sales 2020\",\"mean\")])]\n",
    "index_18 = [(P*S*SL)/F for P, S,SL in zip(score_stats_2018[(\"School Score\", \"mean\")], price_stats_2018[(\"Average Price 2018\", \"mean\")], sales_stats_2018[(\"Sales 2018\",\"mean\")])]\n",
    "index_19 = [(P*S*SL)/F for P, S,SL in zip(score_stats_2019[(\"School Score\", \"mean\")], price_stats_2019[(\"Average Price 2019\", \"mean\")], sales_stats_2019[(\"Sales 2019\",\"mean\")])]\n",
    "index_20 = [(P*S*SL)/F for P, S,SL in zip(score_stats_2020[(\"School Score\", \"mean\")], price_stats_2020[(\"Average Price 2020\", \"mean\")], sales_stats_2020[(\"Sales 2020\",\"mean\")])]\n",
    "\n",
    "\n",
    "\n",
    "\n",
    "# Scatter plots\n",
    "plt.figure(figsize=(9,7))\n",
    "plt.scatter(score_stats_2018[(\"School Score\", \"mean\")], price_stats_2018[(\"Average Price 2018\", \"mean\")], s = index_18,color=\"blue\",)\n",
    "plt.scatter(score_stats_2019[(\"School Score\", \"mean\")], price_stats_2019[(\"Average Price 2019\", \"mean\")], s = index_19,color=\"red\",)\n",
    "plt.scatter(score_stats_2020[(\"School Score\", \"mean\")], price_stats_2020[(\"Average Price 2020\", \"mean\")], s = index_20,color=\"green\",)\n",
    "\n",
    "# 2018\n",
    "(slope_18, intercept_18, rvalue_18, pvalue_18, stderr_18) = linregress(score_stats_2018[(\"School Score\", \"mean\")], price_stats_2018[(\"Average Price 2018\", \"mean\")])\n",
    "regress_values_18 = score_stats_2018[(\"School Score\", \"mean\")] * slope_18 + intercept_18\n",
    "plt.plot(score_stats_2018[(\"School Score\", \"mean\")],regress_values_18, \"b-\", label=\"2018\")\n",
    "#plt.text(0.5, 9, f'R = {rvalue_18:.2f}', fontsize=12)\n",
    "\n",
    "# 2019\n",
    "(slope_19, intercept_19, rvalue_19, pvalue_19, stderr_19) = linregress(score_stats_2019[(\"School Score\", \"mean\")], price_stats_2019[(\"Average Price 2019\", \"mean\")])\n",
    "regress_values_19 = score_stats_2019[(\"School Score\", \"mean\")] * slope_19 + intercept_19\n",
    "plt.plot(score_stats_2019[(\"School Score\", \"mean\")],regress_values_19, \"r-\", label=\"2019\")\n",
    "\n",
    "# 2020\n",
    "(slope_20, intercept_20, rvalue_20, pvalue_20, stderr_20) = linregress(score_stats_2020[(\"School Score\", \"mean\")], price_stats_2020[(\"Average Price 2020\", \"mean\")])\n",
    "regress_values_20 = score_stats_2020[(\"School Score\", \"mean\")] * slope_20 + intercept_20\n",
    "plt.plot(score_stats_2020[(\"School Score\", \"mean\")],regress_values_20, \"g-\", label=\"2020\")\n",
    "\n",
    "plt.xlabel('Elementary School Ranking', fontsize = 14)\n",
    "plt.ylabel('GTA House Prices ($CAD)', fontsize = 14)\n",
    "plt.xticks(fontsize=14)\n",
    "plt.yticks(fontsize=14)\n",
    "plt.legend(loc=\"upper right\")\n",
    "plt.show()"
   ]
  },
  {
   "cell_type": "code",
   "execution_count": 71,
   "id": "eabd69d1",
   "metadata": {},
   "outputs": [
    {
     "data": {
      "text/plain": [
       "[5250748.785922422,\n",
       " 3122473.69447344,\n",
       " 5160008.1556032,\n",
       " 4084267.0345350793,\n",
       " 5453221.159314895]"
      ]
     },
     "execution_count": 71,
     "metadata": {},
     "output_type": "execute_result"
    }
   ],
   "source": [
    "index_18"
   ]
  },
  {
   "cell_type": "code",
   "execution_count": 72,
   "id": "53b781ff",
   "metadata": {},
   "outputs": [
    {
     "data": {
      "text/plain": [
       "[6255581.402089577,\n",
       " 3708878.4827080797,\n",
       " 6341618.8867536,\n",
       " 5013856.24822508,\n",
       " 6440759.862027685]"
      ]
     },
     "execution_count": 72,
     "metadata": {},
     "output_type": "execute_result"
    }
   ],
   "source": [
    "index_19"
   ]
  },
  {
   "cell_type": "code",
   "execution_count": 73,
   "id": "eb6d8fc4",
   "metadata": {},
   "outputs": [
    {
     "data": {
      "text/plain": [
       "[5961231.918114202,\n",
       " 3711544.2835814394,\n",
       " 6005951.7679968,\n",
       " 4923142.801076191,\n",
       " 6156267.807947737]"
      ]
     },
     "execution_count": 73,
     "metadata": {},
     "output_type": "execute_result"
    }
   ],
   "source": [
    "index_20"
   ]
  },
  {
   "cell_type": "code",
   "execution_count": 107,
   "id": "122e6428",
   "metadata": {},
   "outputs": [
    {
     "data": {
      "text/plain": [
       "-0.14021302356399754"
      ]
     },
     "execution_count": 107,
     "metadata": {},
     "output_type": "execute_result"
    }
   ],
   "source": [
    "rvalue_18"
   ]
  },
  {
   "cell_type": "code",
   "execution_count": 108,
   "id": "e9699738",
   "metadata": {},
   "outputs": [
    {
     "data": {
      "text/plain": [
       "-0.11679770652812209"
      ]
     },
     "execution_count": 108,
     "metadata": {},
     "output_type": "execute_result"
    }
   ],
   "source": [
    "rvalue_19"
   ]
  },
  {
   "cell_type": "code",
   "execution_count": 109,
   "id": "45ec47e6",
   "metadata": {},
   "outputs": [
    {
     "data": {
      "text/plain": [
       "-0.1647249800492176"
      ]
     },
     "execution_count": 109,
     "metadata": {},
     "output_type": "execute_result"
    }
   ],
   "source": [
    "rvalue_20"
   ]
  },
  {
   "cell_type": "code",
   "execution_count": null,
   "id": "0e066786",
   "metadata": {},
   "outputs": [],
   "source": []
  }
 ],
 "metadata": {
  "kernelspec": {
   "display_name": "Python 3 (ipykernel)",
   "language": "python",
   "name": "python3"
  },
  "language_info": {
   "codemirror_mode": {
    "name": "ipython",
    "version": 3
   },
   "file_extension": ".py",
   "mimetype": "text/x-python",
   "name": "python",
   "nbconvert_exporter": "python",
   "pygments_lexer": "ipython3",
   "version": "3.11.3"
  }
 },
 "nbformat": 4,
 "nbformat_minor": 5
}
