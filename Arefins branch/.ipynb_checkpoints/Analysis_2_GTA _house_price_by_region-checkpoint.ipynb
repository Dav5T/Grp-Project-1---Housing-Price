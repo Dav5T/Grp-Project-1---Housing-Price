{
 "cells": [
  {
   "cell_type": "code",
   "execution_count": null,
   "id": "30bc45d8",
   "metadata": {},
   "outputs": [],
   "source": [
    "# Modules\n",
    "import os\n",
    "import csv"
   ]
  },
  {
   "cell_type": "code",
   "execution_count": null,
   "id": "ccb12e34",
   "metadata": {},
   "outputs": [],
   "source": [
    "# Get the current script file directory\n",
    "thisFile_path = os.path.dirname(__file__)\n",
    "print(thisFile_path)\n",
    "\n",
    "# Set path for the data csv file\n",
    "csvpath = os.path.join(thisFile_path, \"Resources\", \"budget_data.csv\")\n",
    "print(csvpath)\n",
    "print(\"\\n\")\n"
   ]
  }
 ],
 "metadata": {
  "kernelspec": {
   "display_name": "Python 3 (ipykernel)",
   "language": "python",
   "name": "python3"
  },
  "language_info": {
   "codemirror_mode": {
    "name": "ipython",
    "version": 3
   },
   "file_extension": ".py",
   "mimetype": "text/x-python",
   "name": "python",
   "nbconvert_exporter": "python",
   "pygments_lexer": "ipython3",
   "version": "3.11.3"
  }
 },
 "nbformat": 4,
 "nbformat_minor": 5
}
