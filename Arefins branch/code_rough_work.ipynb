{
 "cells": [
  {
   "cell_type": "code",
   "execution_count": null,
   "id": "bc82e838",
   "metadata": {},
   "outputs": [],
   "source": [
    "\n",
    "#print(region_list)\n",
    "#print(city_list)\n",
    "#print(score_list)\n",
    "#print(sch_name_list)\n",
    "    #    matching_rows.append(row)\n",
    "    \n",
    "    #if pd.isnull(city_name)==False: # means the city name is not Nan                                \n",
    "                # Check if city_name is found in any row value"
   ]
  },
  {
   "cell_type": "code",
   "execution_count": null,
   "id": "e08a5507",
   "metadata": {},
   "outputs": [],
   "source": [
    "# Read the CSV file with space delimiter\n",
    "#raw_data_df = pd.read_csv(csvpath_schRawData, delimiter=' ')\n",
    "\n",
    "# Display the DataFrame\n",
    "#print(raw_data_df)\n",
    "\n",
    "\n",
    "# Display the DataFrame\n",
    "#print(df)"
   ]
  },
  {
   "cell_type": "code",
   "execution_count": null,
   "id": "1111b4a4",
   "metadata": {},
   "outputs": [],
   "source": [
    "# Iterate through each column\n",
    "for region_name, region_data in GTA_areas_df.iteritems():\n",
    "    #print(f\"Column: {region_name}\")\n",
    "    # Iterate through each row in the current column\n",
    "    for index, value in region_data.iteritems():\n",
    "        if pd.isnull(value)==False:\n",
    "            \n",
    "            #pd.isna(df.iloc[1,0])        \n",
    "            print(f\"Row index: {index}, Value: {value}\")"
   ]
  },
  {
   "cell_type": "code",
   "execution_count": null,
   "id": "989f562a",
   "metadata": {},
   "outputs": [],
   "source": [
    "final_df = pd.DataFrame()\n",
    "\n",
    "#while True:\n",
    "#    keyword = input(\"Enter the keyword: \")\n",
    "#    if keyword == 'STOP':\n",
    "#        break\n",
    "    \n",
    "matching_rows = pd.DataFrame()   # List to accumulate matching rows\n",
    "keyword = \"n/a\"\n",
    "score_list = []\n",
    "city_list = []\n",
    "# Iterate through each row of the DataFrame\n",
    "for index, row in df.iterrows():\n",
    "    # Convert row values to lowercase for case-insensitive search\n",
    "    row_values = [str(val).lower() for val in row.values]\n",
    "    \n",
    "    # Iterate through each cell of the row\n",
    "    for col_index, cell in enumerate(row):\n",
    "        # Check if the cell contains the keyword\n",
    "        if str(cell).lower() == keyword.lower():\n",
    "            # Get the content from the column before the keyword\n",
    "        #    if col_index > 0:\n",
    "            score = row[col_index - 1]\n",
    "            score_list.append(float(score))\n",
    "            \n",
    "            city = row[col_index - 2]\n",
    "            city_list.append(city)\n",
    "# Display the collected content list\n",
    "print(score_list)                \n",
    "    \n",
    "    # Check if keyword is found in any row value\n",
    "    #if keyword.lower() in row_values:\n",
    "            #matching_rows = matching_rows.append(row) #.append(row)\n",
    "    # Append the accumulated matching rows to the overall list\n",
    "    #final_df = final_df.append(matching_rows)\n",
    "\n",
    "    # Display the overall list\n",
    "    #for row in overall_list:\n",
    "    #    print(row)"
   ]
  }
 ],
 "metadata": {
  "kernelspec": {
   "display_name": "Python 3 (ipykernel)",
   "language": "python",
   "name": "python3"
  },
  "language_info": {
   "codemirror_mode": {
    "name": "ipython",
    "version": 3
   },
   "file_extension": ".py",
   "mimetype": "text/x-python",
   "name": "python",
   "nbconvert_exporter": "python",
   "pygments_lexer": "ipython3",
   "version": "3.11.3"
  }
 },
 "nbformat": 4,
 "nbformat_minor": 5
}
