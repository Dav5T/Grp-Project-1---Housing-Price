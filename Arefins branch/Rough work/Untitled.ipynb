{
 "cells": [
  {
   "cell_type": "code",
   "execution_count": null,
   "id": "0778e434",
   "metadata": {},
   "outputs": [],
   "source": [
    "sch_scr_Toronto_2018_df = sch_scr_2018_data[sch_scr_2018_data[\"Region Name\"] == \"City of Toronto\"]\n",
    "sch_scr_Halton_2018_df = sch_scr_2018_data[sch_scr_2018_data[\"Region Name\"] == \"Halton Region\"]\n",
    "sch_scr_York_2018_df = sch_scr_2018_data[sch_scr_2018_data[\"Region Name\"] == \"York Region\"]\n",
    "sch_scr_Peel_2018_df = sch_scr_2018_data[sch_scr_2018_data[\"Region Name\"] == \"Peel Region\"]\n",
    "sch_scr_Durham_2018_df = sch_scr_2018_data[sch_scr_2018_data[\"Region Name\"] == \"Durham Region\"]\n",
    "#sch_scr_Toronto_2018_df[\"School Score\"]"
   ]
  },
  {
   "cell_type": "code",
   "execution_count": null,
   "id": "2ce017a8",
   "metadata": {},
   "outputs": [],
   "source": [
    "sch_scr_Toronto_2019_df = sch_scr_2019_data[sch_scr_2019_data[\"Region Name\"] == \"City of Toronto\"]\n",
    "sch_scr_Halton_2019_df = sch_scr_2019_data[sch_scr_2019_data[\"Region Name\"] == \"Halton Region\"]\n",
    "sch_scr_York_2019_df = sch_scr_2019_data[sch_scr_2019_data[\"Region Name\"] == \"York Region\"]\n",
    "sch_scr_Peel_2019_df = sch_scr_2019_data[sch_scr_2019_data[\"Region Name\"] == \"Peel Region\"]\n",
    "sch_scr_Durham_2019_df = sch_scr_2019_data[sch_scr_2019_data[\"Region Name\"] == \"Durham Region\"]"
   ]
  },
  {
   "cell_type": "code",
   "execution_count": null,
   "id": "87b8c3c3",
   "metadata": {},
   "outputs": [],
   "source": [
    "sch_scr_Toronto_2020_df = sch_scr_2020_data[sch_scr_2020_data[\"Region Name\"] == \"City of Toronto\"]\n",
    "sch_scr_Halton_2020_df = sch_scr_2020_data[sch_scr_2020_data[\"Region Name\"] == \"Halton Region\"]\n",
    "sch_scr_York_2020_df = sch_scr_2020_data[sch_scr_2020_data[\"Region Name\"] == \"York Region\"]\n",
    "sch_scr_Peel_2020_df = sch_scr_2020_data[sch_scr_2020_data[\"Region Name\"] == \"Peel Region\"]\n",
    "sch_scr_Durham_2020_df = sch_scr_2020_data[sch_scr_2020_data[\"Region Name\"] == \"Durham Region\"]"
   ]
  }
 ],
 "metadata": {
  "kernelspec": {
   "display_name": "Python 3 (ipykernel)",
   "language": "python",
   "name": "python3"
  },
  "language_info": {
   "codemirror_mode": {
    "name": "ipython",
    "version": 3
   },
   "file_extension": ".py",
   "mimetype": "text/x-python",
   "name": "python",
   "nbconvert_exporter": "python",
   "pygments_lexer": "ipython3",
   "version": "3.11.3"
  }
 },
 "nbformat": 4,
 "nbformat_minor": 5
}
